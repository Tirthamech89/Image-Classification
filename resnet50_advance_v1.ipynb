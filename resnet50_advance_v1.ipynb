{
 "cells": [
  {
   "cell_type": "code",
   "execution_count": 39,
   "id": "cbd5afd8-50a8-417e-9c63-11c981c1edb2",
   "metadata": {
    "tags": []
   },
   "outputs": [],
   "source": [
    "from keras.models import Sequential\n",
    "get_ipython().magic('matplotlib inline')\n",
    "import matplotlib.pyplot as plt\n",
    "import numpy as np\n",
    "import keras\n",
    "from keras.layers import Dense\n",
    "import pandas as pd\n",
    "\n",
    "import tensorflow as tf\n",
    "from tensorflow.keras.applications import ResNet50\n",
    "from tensorflow.keras.preprocessing import image\n",
    "from tensorflow.keras.applications import imagenet_utils\n",
    "from tensorflow.keras.applications.vgg16 import decode_predictions\n",
    "from tensorflow.keras.applications.vgg16 import preprocess_input\n",
    "from tensorflow.keras.preprocessing.image import img_to_array\n",
    "from tensorflow.keras.preprocessing.image import load_img\n",
    "from tensorflow.keras.callbacks import ModelCheckpoint, Callback, EarlyStopping, ReduceLROnPlateau\n",
    "from keras.layers import Dense, Activation\n",
    "import argparse \n",
    "\n",
    "import os\n",
    "import tarfile\n"
   ]
  },
  {
   "cell_type": "code",
   "execution_count": 29,
   "id": "792d1ef5-2e92-4778-9266-4d19d1a5afc7",
   "metadata": {
    "tags": []
   },
   "outputs": [],
   "source": [
    "import random\n",
    "SEED = 99\n",
    "def random_seed(SEED):\n",
    "    random.seed(SEED)\n",
    "    os.environ['PYTHONHASHSEED'] = str(SEED)\n",
    "    np.random.seed(SEED)\n",
    "    #torch.manual_seed(SEED)\n",
    "    #torch.cuda.manual_seed(SEED)\n",
    "    #torch.cuda.manual_seed_all(SEED)\n",
    "    #torch.backends.cudnn.deterministic = True\n",
    "    tf.random.set_seed(SEED)\n",
    "random_seed(SEED)"
   ]
  },
  {
   "cell_type": "code",
   "execution_count": 11,
   "id": "2083003c-c885-4c06-9419-0b9fbcf57c03",
   "metadata": {
    "tags": []
   },
   "outputs": [],
   "source": [
    "#!pip install optuna"
   ]
  },
  {
   "cell_type": "code",
   "execution_count": 33,
   "id": "c20d4dfe-6e14-4b45-a520-1fde216da344",
   "metadata": {
    "tags": []
   },
   "outputs": [],
   "source": [
    "import optuna\n",
    "from optuna import Trial\n",
    "from optuna.samplers import TPESampler"
   ]
  },
  {
   "cell_type": "code",
   "execution_count": 13,
   "id": "d5ad379c-31ac-4e20-b161-7cd464ab387c",
   "metadata": {},
   "outputs": [],
   "source": [
    "train=pd.read_csv('/root/MH_TLDCC/train.csv')\n",
    "test=pd.read_csv('/root/MH_TLDCC/test.csv')\n",
    "image_path='/root/MH_TLDCC/train/'\n",
    "image_path_test='/root/MH_TLDCC/test/'"
   ]
  },
  {
   "cell_type": "code",
   "execution_count": 14,
   "id": "cbb1bb40-c94b-4812-a0fc-fa2e19f72914",
   "metadata": {
    "tags": []
   },
   "outputs": [
    {
     "data": {
      "text/plain": [
       "Index(['Image', 'Label'], dtype='object')"
      ]
     },
     "execution_count": 14,
     "metadata": {},
     "output_type": "execute_result"
    }
   ],
   "source": [
    "train.columns"
   ]
  },
  {
   "cell_type": "code",
   "execution_count": 15,
   "id": "49c9ff1b-2084-4b4b-82de-4069d10ef04a",
   "metadata": {
    "tags": []
   },
   "outputs": [],
   "source": [
    "train_img=[]\n",
    "for i in range(len(train)):\n",
    "    temp_img=image.load_img(image_path+train['Image'][i],target_size=(224,224))\n",
    "    temp_img=image.img_to_array(temp_img)\n",
    "    train_img.append(temp_img)"
   ]
  },
  {
   "cell_type": "code",
   "execution_count": 16,
   "id": "9049fdf6-9d0c-4e2c-bdb2-60374f555c7b",
   "metadata": {
    "tags": []
   },
   "outputs": [],
   "source": [
    "train_img=np.array(train_img)\n",
    "train_img=preprocess_input(train_img)"
   ]
  },
  {
   "cell_type": "code",
   "execution_count": 17,
   "id": "9a4bed9c-d973-4f3e-af46-d53d496fd1d5",
   "metadata": {
    "tags": []
   },
   "outputs": [],
   "source": [
    "test_img=[]\n",
    "for i in range(len(test)):\n",
    "    temp_img=image.load_img(image_path_test+test['Image'][i],target_size=(224,224))\n",
    "    temp_img=image.img_to_array(temp_img)\n",
    "    test_img.append(temp_img)\n"
   ]
  },
  {
   "cell_type": "code",
   "execution_count": 18,
   "id": "76df7cf4-a184-4972-bb84-61816532d990",
   "metadata": {
    "tags": []
   },
   "outputs": [],
   "source": [
    "test_img=np.array(test_img)\n",
    "test_img=preprocess_input(test_img)"
   ]
  },
  {
   "cell_type": "code",
   "execution_count": 19,
   "id": "d4a0339b-c7c9-45cf-aadf-2c98ee52c709",
   "metadata": {
    "tags": []
   },
   "outputs": [],
   "source": [
    "model = ResNet50(weights='imagenet', include_top=False)"
   ]
  },
  {
   "cell_type": "code",
   "execution_count": 20,
   "id": "099a24d2-88de-4d2d-a466-c44c149bd708",
   "metadata": {
    "tags": []
   },
   "outputs": [],
   "source": [
    "features_train=model.predict(train_img)\n",
    "features_test=model.predict(test_img)"
   ]
  },
  {
   "cell_type": "code",
   "execution_count": 21,
   "id": "335ea374-6bc5-4685-8422-2427798f1bcb",
   "metadata": {
    "tags": []
   },
   "outputs": [],
   "source": [
    "dim1 = features_train.shape[1]*features_train.shape[2]*features_train.shape[3]"
   ]
  },
  {
   "cell_type": "code",
   "execution_count": 22,
   "id": "e0f86049-8dc3-4833-9fc3-0e0e687463eb",
   "metadata": {
    "tags": []
   },
   "outputs": [],
   "source": [
    "train_x=features_train.reshape(train.shape[0],dim1)\n",
    "train_y=np.asarray(train['Label'])\n",
    "\n",
    "test_x=features_test.reshape(test.shape[0],dim1)"
   ]
  },
  {
   "cell_type": "code",
   "execution_count": 23,
   "id": "d8765875-d750-4451-9188-4d452780c652",
   "metadata": {
    "tags": []
   },
   "outputs": [],
   "source": [
    "train_y=pd.get_dummies(train_y)\n",
    "train_y=np.array(train_y)"
   ]
  },
  {
   "cell_type": "code",
   "execution_count": 56,
   "id": "cd3f6269-8b5c-42c4-9b69-078a00f6d143",
   "metadata": {
    "tags": []
   },
   "outputs": [],
   "source": [
    "from sklearn.model_selection import train_test_split, KFold, StratifiedKFold\n",
    "#X_train, X_valid, Y_train, Y_valid=train_test_split(train_x,train_y,test_size=0.3, random_state=42)"
   ]
  },
  {
   "cell_type": "code",
   "execution_count": 40,
   "id": "2dbc1df4-40a9-47f0-9c52-9f36c13e9421",
   "metadata": {
    "tags": []
   },
   "outputs": [],
   "source": [
    "def objective(trial):\n",
    "    keras.backend.clear_session()\n",
    "    X_train, X_valid, Y_train, Y_valid = train_test_split(train_x,train_y,test_size=0.3, random_state=42)\n",
    "    val_ds = (X_valid,Y_valid)\n",
    "    #optimum number of hidden layers\n",
    "    n_layers = trial.suggest_int('n_layers', 1, 3)\n",
    "    model = keras.Sequential()\n",
    "    \n",
    "    for i in range(n_layers):\n",
    "        #optimum number of hidden nodes\n",
    "        num_hidden = trial.suggest_int(f'n_units_l{i}', 100, 1800, log=True)\n",
    "        #optimum activation function\n",
    "        model.add(keras.layers.Dense(num_hidden, input_shape=(dim1,),\n",
    "                               activation=trial.suggest_categorical(f'activation{i}', ['relu', 'linear','swish','sigmoid'])))\n",
    "        #optimum dropout value\n",
    "        model.add(keras.layers.Dropout(rate = trial.suggest_float(f'dropout{i}', 0.1, 0.6))) \n",
    "        \n",
    "    model.add(keras.layers.Dense(10,activation=tf.keras.activations.sigmoid)) #output Layer\n",
    "\n",
    "    \n",
    "    reduce_lr = ReduceLROnPlateau(monitor='val_loss', factor=0.1,patience=1,min_lr=1e-05,verbose=0)\n",
    "    early_stoping = EarlyStopping(monitor=\"val_loss\",min_delta=0.001,patience=5,verbose=0,mode=\"auto\", baseline=None,restore_best_weights=True)\n",
    "    model.compile(loss='binary_crossentropy',metrics='categorical_crossentropy', optimizer='Adam')\n",
    "    #optimum batch size\n",
    "    histroy = model.fit(X_train,Y_train, validation_data=val_ds,epochs=200,callbacks=[reduce_lr,early_stoping],verbose=0,\n",
    "                       batch_size=trial.suggest_int('size', 8, 128))\n",
    "    return min(histroy.history['val_loss'])"
   ]
  },
  {
   "cell_type": "code",
   "execution_count": null,
   "id": "39ca3f2d-dd79-417c-abd5-bb814615cc07",
   "metadata": {
    "tags": []
   },
   "outputs": [
    {
     "name": "stderr",
     "output_type": "stream",
     "text": [
      "[I 2023-06-11 17:47:53,257] A new study created in memory with name: no-name-9d7eb7d5-fa43-49a2-8c4a-910874593e5c\n"
     ]
    },
    {
     "name": "stdout",
     "output_type": "stream",
     "text": [
      "Extension horovod.torch has not been built: /usr/local/lib/python3.8/site-packages/horovod/torch/mpi_lib/_mpi_lib.cpython-38-x86_64-linux-gnu.so not found\n",
      "If this is not expected, reinstall Horovod with HOROVOD_WITH_PYTORCH=1 to debug the build error.\n",
      "Warning! MPI libs are missing, but python applications are still avaiable.\n",
      "[2023-06-11 17:47:57.570 tensorflow-2-6-gpu-p-ml-m5-8xlarge-bcb76d5dd8298e74ed86b8abf5ec:2359 INFO utils.py:27] RULE_JOB_STOP_SIGNAL_FILENAME: None\n",
      "[2023-06-11 17:47:57.596 tensorflow-2-6-gpu-p-ml-m5-8xlarge-bcb76d5dd8298e74ed86b8abf5ec:2359 INFO profiler_config_parser.py:111] Unable to find config at /opt/ml/input/config/profilerconfig.json. Profiler is disabled.\n"
     ]
    }
   ],
   "source": [
    "if __name__ == \"__main__\":\n",
    "    sampler = TPESampler(seed=11062023)\n",
    "    study = optuna.create_study(direction=\"minimize\",sampler=sampler)\n",
    "    study.optimize(objective, n_trials=50, timeout=1200)\n",
    "    print(\"Number of finished trials: {}\".format(len(study.trials)))\n",
    "    print(\"Best trial:\")\n",
    "    trial = study.best_trial\n",
    "    print(\"  Value: {}\".format(trial.value))"
   ]
  },
  {
   "cell_type": "code",
   "execution_count": 45,
   "id": "fd589295-506f-4c33-a20f-b794cf5eac1c",
   "metadata": {
    "tags": []
   },
   "outputs": [
    {
     "name": "stdout",
     "output_type": "stream",
     "text": [
      " Params: \n",
      "n_layers: 2\n",
      "n_units_l0: 1050\n",
      "activation0: swish\n",
      "dropout0: 0.5454650439678453\n",
      "n_units_l1: 123\n",
      "activation1: swish\n",
      "dropout1: 0.1379020569045911\n",
      "size: 25\n"
     ]
    }
   ],
   "source": [
    "print(\" Params: \")\n",
    "for key, value in trial.params.items():\n",
    "    print(\"{}: {}\".format(key, value))"
   ]
  },
  {
   "cell_type": "code",
   "execution_count": 68,
   "id": "6df0f583-33d3-4a7a-905c-b8c422371fec",
   "metadata": {
    "tags": []
   },
   "outputs": [],
   "source": [
    "def wider_model():\n",
    "    model = keras.Sequential()\n",
    "    model.add(Dense(1050, input_dim=dim1, activation='swish',kernel_initializer='uniform'))\n",
    "    keras.layers.core.Dropout(0.5454650439678453, noise_shape=None, seed=None)\n",
    "\n",
    "    model.add(Dense(123,input_dim=1050,activation='swish'))\n",
    "    keras.layers.core.Dropout(0.1379020569045911, noise_shape=None, seed=None)\n",
    "\n",
    "    # model.add(Dense(150,input_dim=500,activation='sigmoid'))\n",
    "    # keras.layers.core.Dropout(0.2, noise_shape=None, seed=None)\n",
    "\n",
    "    model.add(Dense(units=10))\n",
    "    model.add(Activation('softmax'))\n",
    "    \n",
    "    return model\n",
    "    "
   ]
  },
  {
   "cell_type": "code",
   "execution_count": 48,
   "id": "78083eb3-d90b-4b5c-89da-986c28f372d4",
   "metadata": {},
   "outputs": [],
   "source": [
    "# def wider_model():\n",
    "    \n",
    "#     model = keras.Sequential()\n",
    "#     model.add(Dense(1000, input_dim=dim1, activation='relu',kernel_initializer='uniform'))\n",
    "#     keras.layers.core.Dropout(0.3, noise_shape=None, seed=None)\n",
    "\n",
    "#     model.add(Dense(500,input_dim=1000,activation='sigmoid'))\n",
    "#     keras.layers.core.Dropout(0.4, noise_shape=None, seed=None)\n",
    "\n",
    "#     model.add(Dense(150,input_dim=500,activation='sigmoid'))\n",
    "#     keras.layers.core.Dropout(0.2, noise_shape=None, seed=None)\n",
    "\n",
    "#     model.add(Dense(units=10))\n",
    "#     model.add(Activation('softmax'))\n",
    "\n",
    "#     #model.compile(loss='categorical_crossentropy', optimizer=\"adam\", metrics=['accuracy'])\n",
    "\n",
    "#     return model"
   ]
  },
  {
   "cell_type": "code",
   "execution_count": null,
   "id": "1ce37307-566d-4a5b-a2d0-8078d3ea2a59",
   "metadata": {},
   "outputs": [
    {
     "name": "stdout",
     "output_type": "stream",
     "text": [
      "#################\n",
      "1\n",
      "#################\n",
      "Epoch 1/30\n",
      "407/407 [==============================] - 48s 116ms/step - loss: 2.4219 - accuracy: 0.8179 - val_loss: 0.4037 - val_accuracy: 0.9052\n",
      "Epoch 2/30\n",
      "407/407 [==============================] - 46s 113ms/step - loss: 0.2316 - accuracy: 0.9502 - val_loss: 0.3707 - val_accuracy: 0.9280\n",
      "Epoch 3/30\n",
      "407/407 [==============================] - 46s 113ms/step - loss: 0.1183 - accuracy: 0.9711 - val_loss: 0.3607 - val_accuracy: 0.9387\n",
      "Epoch 4/30\n",
      "407/407 [==============================] - 46s 113ms/step - loss: 0.1312 - accuracy: 0.9708 - val_loss: 0.3659 - val_accuracy: 0.9442\n",
      "\n",
      "Epoch 00004: ReduceLROnPlateau reducing learning rate to 0.00010000000474974513.\n",
      "Epoch 5/30\n",
      "407/407 [==============================] - 46s 113ms/step - loss: 0.0203 - accuracy: 0.9948 - val_loss: 0.2352 - val_accuracy: 0.9595\n",
      "Epoch 6/30\n",
      "407/407 [==============================] - 46s 113ms/step - loss: 0.0033 - accuracy: 0.9995 - val_loss: 0.2269 - val_accuracy: 0.9630\n",
      "Epoch 7/30\n",
      "407/407 [==============================] - 46s 113ms/step - loss: 0.0018 - accuracy: 0.9998 - val_loss: 0.2275 - val_accuracy: 0.9630\n",
      "\n",
      "Epoch 00007: ReduceLROnPlateau reducing learning rate to 1.0000000474974514e-05.\n",
      "Epoch 8/30\n",
      "407/407 [==============================] - 46s 113ms/step - loss: 9.0294e-04 - accuracy: 0.9998 - val_loss: 0.2274 - val_accuracy: 0.9630\n",
      "\n",
      "Epoch 00008: ReduceLROnPlateau reducing learning rate to 1e-05.\n",
      "Epoch 9/30\n",
      "407/407 [==============================] - 46s 114ms/step - loss: 8.3646e-04 - accuracy: 0.9998 - val_loss: 0.2273 - val_accuracy: 0.9622\n",
      "Epoch 10/30\n",
      "407/407 [==============================] - 46s 114ms/step - loss: 7.7681e-04 - accuracy: 0.9998 - val_loss: 0.2272 - val_accuracy: 0.9622\n",
      "Epoch 11/30\n",
      "407/407 [==============================] - 46s 113ms/step - loss: 7.1858e-04 - accuracy: 0.9998 - val_loss: 0.2272 - val_accuracy: 0.9626\n",
      "Restoring model weights from the end of the best epoch.\n",
      "Epoch 00011: early stopping\n",
      "0.22690202295780182\n",
      "#################\n",
      "2\n",
      "#################\n",
      "Epoch 1/30\n",
      "407/407 [==============================] - 47s 116ms/step - loss: 2.3875 - accuracy: 0.7311 - val_loss: 0.7305 - val_accuracy: 0.8164\n",
      "Epoch 2/30\n",
      "407/407 [==============================] - 46s 112ms/step - loss: 0.4910 - accuracy: 0.8827 - val_loss: 0.4989 - val_accuracy: 0.8923\n",
      "Epoch 3/30\n",
      "407/407 [==============================] - 46s 113ms/step - loss: 0.3024 - accuracy: 0.9203 - val_loss: 0.3199 - val_accuracy: 0.9186\n",
      "Epoch 4/30\n",
      "407/407 [==============================] - 46s 113ms/step - loss: 0.1445 - accuracy: 0.9619 - val_loss: 0.3750 - val_accuracy: 0.9139\n",
      "\n",
      "Epoch 00004: ReduceLROnPlateau reducing learning rate to 0.00010000000474974513.\n",
      "Epoch 5/30\n",
      "407/407 [==============================] - 46s 112ms/step - loss: 0.0475 - accuracy: 0.9862 - val_loss: 0.2246 - val_accuracy: 0.9489\n",
      "Epoch 6/30\n",
      "407/407 [==============================] - 46s 112ms/step - loss: 0.0206 - accuracy: 0.9940 - val_loss: 0.2188 - val_accuracy: 0.9505\n",
      "Epoch 7/30\n",
      "407/407 [==============================] - 46s 113ms/step - loss: 0.0133 - accuracy: 0.9962 - val_loss: 0.2118 - val_accuracy: 0.9528\n",
      "Epoch 8/30\n",
      "407/407 [==============================] - 46s 114ms/step - loss: 0.0106 - accuracy: 0.9968 - val_loss: 0.2082 - val_accuracy: 0.9536\n",
      "Epoch 9/30\n",
      "407/407 [==============================] - 46s 113ms/step - loss: 0.0090 - accuracy: 0.9969 - val_loss: 0.2142 - val_accuracy: 0.9536\n",
      "\n",
      "Epoch 00009: ReduceLROnPlateau reducing learning rate to 1.0000000474974514e-05.\n",
      "Epoch 10/30\n",
      "407/407 [==============================] - 46s 113ms/step - loss: 0.0076 - accuracy: 0.9972 - val_loss: 0.2117 - val_accuracy: 0.9540\n",
      "\n",
      "Epoch 00010: ReduceLROnPlateau reducing learning rate to 1e-05.\n",
      "Epoch 11/30\n",
      "407/407 [==============================] - 46s 114ms/step - loss: 0.0073 - accuracy: 0.9972 - val_loss: 0.2111 - val_accuracy: 0.9540\n",
      "Epoch 12/30\n",
      "407/407 [==============================] - 46s 113ms/step - loss: 0.0071 - accuracy: 0.9973 - val_loss: 0.2113 - val_accuracy: 0.9544\n",
      "Epoch 13/30\n",
      "407/407 [==============================] - 46s 113ms/step - loss: 0.0069 - accuracy: 0.9973 - val_loss: 0.2120 - val_accuracy: 0.9552\n",
      "Restoring model weights from the end of the best epoch.\n",
      "Epoch 00013: early stopping\n",
      "0.20816898345947266\n",
      "#################\n",
      "3\n",
      "#################\n",
      "Epoch 1/30\n",
      "407/407 [==============================] - 48s 116ms/step - loss: 2.9220 - accuracy: 0.7200 - val_loss: 0.5637 - val_accuracy: 0.8100\n",
      "Epoch 2/30\n",
      "407/407 [==============================] - 46s 112ms/step - loss: 0.3109 - accuracy: 0.8959 - val_loss: 0.3886 - val_accuracy: 0.8855\n",
      "Epoch 3/30\n",
      "407/407 [==============================] - 46s 112ms/step - loss: 0.1153 - accuracy: 0.9602 - val_loss: 0.3742 - val_accuracy: 0.9028\n",
      "Epoch 4/30\n",
      "407/407 [==============================] - 46s 113ms/step - loss: 0.0826 - accuracy: 0.9732 - val_loss: 0.3187 - val_accuracy: 0.9190\n",
      "Epoch 5/30\n",
      "407/407 [==============================] - 46s 113ms/step - loss: 0.0478 - accuracy: 0.9853 - val_loss: 0.4933 - val_accuracy: 0.8930\n",
      "\n",
      "Epoch 00005: ReduceLROnPlateau reducing learning rate to 0.00010000000474974513.\n",
      "Epoch 6/30\n",
      "407/407 [==============================] - 46s 114ms/step - loss: 0.0180 - accuracy: 0.9949 - val_loss: 0.2213 - val_accuracy: 0.9500\n",
      "Epoch 7/30\n",
      "407/407 [==============================] - 46s 114ms/step - loss: 0.0074 - accuracy: 0.9984 - val_loss: 0.2228 - val_accuracy: 0.9477\n",
      "\n",
      "Epoch 00007: ReduceLROnPlateau reducing learning rate to 1.0000000474974514e-05.\n",
      "Epoch 8/30\n",
      "407/407 [==============================] - 47s 115ms/step - loss: 0.0056 - accuracy: 0.9989 - val_loss: 0.2173 - val_accuracy: 0.9493\n",
      "Epoch 9/30\n",
      "407/407 [==============================] - 46s 114ms/step - loss: 0.0053 - accuracy: 0.9989 - val_loss: 0.2162 - val_accuracy: 0.9485\n",
      "Epoch 10/30\n",
      "407/407 [==============================] - 46s 114ms/step - loss: 0.0051 - accuracy: 0.9989 - val_loss: 0.2166 - val_accuracy: 0.9493\n",
      "\n",
      "Epoch 00010: ReduceLROnPlateau reducing learning rate to 1e-05.\n",
      "Epoch 11/30\n",
      "407/407 [==============================] - 47s 114ms/step - loss: 0.0049 - accuracy: 0.9989 - val_loss: 0.2162 - val_accuracy: 0.9496\n",
      "Epoch 12/30\n",
      "407/407 [==============================] - 47s 115ms/step - loss: 0.0047 - accuracy: 0.9989 - val_loss: 0.2178 - val_accuracy: 0.9496\n",
      "Epoch 13/30\n",
      "407/407 [==============================] - 46s 113ms/step - loss: 0.1828 - accuracy: 0.9632 - val_loss: 0.3320 - val_accuracy: 0.9465\n",
      "Epoch 3/30\n",
      "407/407 [==============================] - 46s 113ms/step - loss: 0.0956 - accuracy: 0.9789 - val_loss: 0.3571 - val_accuracy: 0.9445\n",
      "\n",
      "Epoch 00003: ReduceLROnPlateau reducing learning rate to 0.00010000000474974513.\n",
      "Epoch 4/30\n",
      "407/407 [==============================] - 46s 114ms/step - loss: 0.0195 - accuracy: 0.9939 - val_loss: 0.2574 - val_accuracy: 0.9548\n",
      "Epoch 5/30\n",
      "407/407 [==============================] - 46s 114ms/step - loss: 0.0018 - accuracy: 0.9996 - val_loss: 0.2577 - val_accuracy: 0.9583\n",
      "\n",
      "Epoch 00005: ReduceLROnPlateau reducing learning rate to 1.0000000474974514e-05.\n",
      "Epoch 6/30\n",
      "407/407 [==============================] - 46s 114ms/step - loss: 5.8991e-04 - accuracy: 1.0000 - val_loss: 0.2562 - val_accuracy: 0.9587\n",
      "Epoch 7/30\n",
      "407/407 [==============================] - 46s 114ms/step - loss: 5.1410e-04 - accuracy: 1.0000 - val_loss: 0.2551 - val_accuracy: 0.9579\n",
      "Epoch 8/30\n",
      "407/407 [==============================] - 46s 114ms/step - loss: 4.6761e-04 - accuracy: 1.0000 - val_loss: 0.2542 - val_accuracy: 0.9579\n",
      "Epoch 9/30\n",
      "407/407 [==============================] - 46s 114ms/step - loss: 4.3323e-04 - accuracy: 1.0000 - val_loss: 0.2535 - val_accuracy: 0.9579\n",
      "Epoch 10/30\n",
      "407/407 [==============================] - 46s 114ms/step - loss: 4.0419e-04 - accuracy: 1.0000 - val_loss: 0.2530 - val_accuracy: 0.9575\n",
      "Epoch 11/30\n",
      "407/407 [==============================] - 46s 114ms/step - loss: 3.7746e-04 - accuracy: 1.0000 - val_loss: 0.2527 - val_accuracy: 0.9571\n",
      "Epoch 12/30\n",
      "407/407 [==============================] - 46s 114ms/step - loss: 3.4825e-04 - accuracy: 1.0000 - val_loss: 0.2523 - val_accuracy: 0.9579\n",
      "Epoch 13/30\n",
      "407/407 [==============================] - 47s 114ms/step - loss: 3.2164e-04 - accuracy: 1.0000 - val_loss: 0.2517 - val_accuracy: 0.9583\n",
      "Epoch 14/30\n",
      "407/407 [==============================] - 46s 114ms/step - loss: 2.9117e-04 - accuracy: 1.0000 - val_loss: 0.2515 - val_accuracy: 0.9583\n",
      "Epoch 15/30\n",
      "407/407 [==============================] - 46s 114ms/step - loss: 2.6710e-04 - accuracy: 1.0000 - val_loss: 0.2513 - val_accuracy: 0.9587\n",
      "Epoch 16/30\n",
      "407/407 [==============================] - 47s 114ms/step - loss: 2.4154e-04 - accuracy: 1.0000 - val_loss: 0.2509 - val_accuracy: 0.9587\n",
      "Epoch 17/30\n",
      "407/407 [==============================] - 47s 114ms/step - loss: 2.1659e-04 - accuracy: 1.0000 - val_loss: 0.2505 - val_accuracy: 0.9587\n",
      "Epoch 18/30\n",
      "407/407 [==============================] - 47s 115ms/step - loss: 1.9594e-04 - accuracy: 1.0000 - val_loss: 0.2505 - val_accuracy: 0.9587\n",
      "\n",
      "Epoch 00018: ReduceLROnPlateau reducing learning rate to 1e-05.\n",
      "Epoch 19/30\n",
      "407/407 [==============================] - 47s 115ms/step - loss: 1.7475e-04 - accuracy: 1.0000 - val_loss: 0.2499 - val_accuracy: 0.9591\n",
      "Epoch 20/30\n",
      "407/407 [==============================] - 47s 115ms/step - loss: 1.5493e-04 - accuracy: 1.0000 - val_loss: 0.2497 - val_accuracy: 0.9595\n",
      "Epoch 21/30\n",
      "407/407 [==============================] - 46s 114ms/step - loss: 1.3766e-04 - accuracy: 1.0000 - val_loss: 0.2495 - val_accuracy: 0.9599\n",
      "Epoch 22/30\n",
      "407/407 [==============================] - 46s 114ms/step - loss: 1.2065e-04 - accuracy: 1.0000 - val_loss: 0.2492 - val_accuracy: 0.9599\n",
      "Epoch 23/30\n",
      "407/407 [==============================] - 46s 114ms/step - loss: 1.0564e-04 - accuracy: 1.0000 - val_loss: 0.2489 - val_accuracy: 0.9603\n",
      "Epoch 24/30\n",
      "407/407 [==============================] - 46s 114ms/step - loss: 9.2551e-05 - accuracy: 1.0000 - val_loss: 0.2489 - val_accuracy: 0.9603\n",
      "Restoring model weights from the end of the best epoch.\n",
      "Epoch 00024: early stopping\n",
      "0.24887724220752716\n",
      "407/407 [==============================] - 46s 114ms/step - loss: 0.0141 - accuracy: 0.9957 - val_loss: 0.1936 - val_accuracy: 0.9579\n",
      "\n",
      "Epoch 00007: ReduceLROnPlateau reducing learning rate to 1.0000000474974514e-05.\n",
      "Epoch 8/30\n",
      "407/407 [==============================] - 46s 114ms/step - loss: 0.0091 - accuracy: 0.9972 - val_loss: 0.1916 - val_accuracy: 0.9587\n",
      "Epoch 9/30\n",
      "407/407 [==============================] - 47s 114ms/step - loss: 0.0084 - accuracy: 0.9976 - val_loss: 0.1924 - val_accuracy: 0.9595\n",
      "\n",
      "Epoch 00009: ReduceLROnPlateau reducing learning rate to 1e-05.\n",
      "Epoch 10/30\n",
      "407/407 [==============================] - 47s 114ms/step - loss: 0.0079 - accuracy: 0.9977 - val_loss: 0.1938 - val_accuracy: 0.9595\n",
      "Epoch 11/30\n",
      "407/407 [==============================] - 47s 115ms/step - loss: 0.0075 - accuracy: 0.9979 - val_loss: 0.1947 - val_accuracy: 0.9607\n",
      "Restoring model weights from the end of the best epoch.\n",
      "Epoch 00011: early stopping\n",
      "0.19159573316574097\n"
     ]
    }
   ],
   "source": [
    "skf = KFold(n_splits=5, shuffle=True, random_state=1234)\n",
    "Final_Subbmission = []\n",
    "val_loss_print = []\n",
    "i=1\n",
    "for train_index, test_index in skf.split(train_x,train_y):\n",
    "    keras.backend.clear_session()\n",
    "    print('#################')\n",
    "    print(i)\n",
    "    print('#################')\n",
    "    X_train, X_test = train_x[train_index], train_x[test_index]\n",
    "    y_train, y_test = train_y[train_index], train_y[test_index]\n",
    "    model = wider_model()\n",
    "    val_ds = (X_test,y_test)\n",
    "    reduce_lr = ReduceLROnPlateau(monitor='val_loss', factor=0.1,patience=1,min_lr=1e-05,verbose=1)\n",
    "    \n",
    "    early_stoping = EarlyStopping(monitor=\"val_loss\",min_delta=0.001,patience=5,verbose=1,mode=\"auto\", baseline=None,restore_best_weights=True)\n",
    "    model.compile(loss='categorical_crossentropy', optimizer=\"adam\", metrics=['accuracy'])\n",
    "    #model.compile(loss='binary_crossentropy',metrics='categorical_crossentropy', optimizer='Adam')\n",
    "    \n",
    "    #histroy = model.fit(X_train,y_train, validation_data=val_ds,epochs=30,callbacks=early_stoping,verbose=1,batch_size=30)\n",
    "    histroy = model.fit(X_train,y_train, validation_data=val_ds,epochs=30,callbacks=[reduce_lr,early_stoping],verbose=1,batch_size=25)\n",
    "    \n",
    "    \n",
    "    print(min(histroy.history['val_loss']))\n",
    "    val_loss_print.append(min(histroy.history['val_loss']))\n",
    "    Test_seq_pred = model.predict(test_x)\n",
    "    Final_Subbmission.append(Test_seq_pred)\n",
    "    i=i+1"
   ]
  },
  {
   "cell_type": "code",
   "execution_count": null,
   "id": "79a83f56-096c-4709-b34c-7cac1c4f294f",
   "metadata": {},
   "outputs": [],
   "source": [
    "out = np.mean(Final_Subbmission, axis=0)\n",
    "class_labels = np.argmax(out, axis=1)\n",
    "class_labels_dt=pd.DataFrame(class_labels)\n",
    "class_labels_dt.columns=['Label']\n",
    "\n",
    "class_labels_dt.to_csv('class_labels_dt_adv_v2.csv',index=False)"
   ]
  },
  {
   "cell_type": "code",
   "execution_count": 63,
   "id": "ae0fada3-05c4-4913-b533-34e6f1bb95a9",
   "metadata": {},
   "outputs": [
    {
     "data": {
      "text/plain": [
       "0.2113598793745041"
      ]
     },
     "execution_count": 63,
     "metadata": {},
     "output_type": "execute_result"
    }
   ],
   "source": [
    "np.mean(val_loss_print)"
   ]
  },
  {
   "cell_type": "code",
   "execution_count": 75,
   "id": "dc0e84a3-8240-4138-95ca-ba206bf2220e",
   "metadata": {},
   "outputs": [
    {
     "data": {
      "text/plain": [
       "0.21835097074508666"
      ]
     },
     "execution_count": 75,
     "metadata": {},
     "output_type": "execute_result"
    }
   ],
   "source": [
    "np.mean(val_loss_print)"
   ]
  },
  {
   "cell_type": "code",
   "execution_count": 74,
   "id": "9e5c7b25-9b59-4f22-8adc-8de07fbb821e",
   "metadata": {},
   "outputs": [
    {
     "data": {
      "text/plain": [
       "3"
      ]
     },
     "execution_count": 74,
     "metadata": {},
     "output_type": "execute_result"
    }
   ],
   "source": [
    "1+2"
   ]
  },
  {
   "cell_type": "code",
   "execution_count": null,
   "id": "c6ecb6cf-2047-4117-ae0b-dc7929e7c862",
   "metadata": {},
   "outputs": [],
   "source": []
  },
  {
   "cell_type": "code",
   "execution_count": null,
   "id": "87a82a94-3502-47ba-8f49-6b3d91248e67",
   "metadata": {},
   "outputs": [],
   "source": []
  },
  {
   "cell_type": "code",
   "execution_count": null,
   "id": "62d27b07-a881-4174-9cb5-feae44346a50",
   "metadata": {},
   "outputs": [],
   "source": []
  }
 ],
 "metadata": {
  "availableInstances": [
   {
    "_defaultOrder": 0,
    "_isFastLaunch": true,
    "category": "General purpose",
    "gpuNum": 0,
    "hideHardwareSpecs": false,
    "memoryGiB": 4,
    "name": "ml.t3.medium",
    "vcpuNum": 2
   },
   {
    "_defaultOrder": 1,
    "_isFastLaunch": false,
    "category": "General purpose",
    "gpuNum": 0,
    "hideHardwareSpecs": false,
    "memoryGiB": 8,
    "name": "ml.t3.large",
    "vcpuNum": 2
   },
   {
    "_defaultOrder": 2,
    "_isFastLaunch": false,
    "category": "General purpose",
    "gpuNum": 0,
    "hideHardwareSpecs": false,
    "memoryGiB": 16,
    "name": "ml.t3.xlarge",
    "vcpuNum": 4
   },
   {
    "_defaultOrder": 3,
    "_isFastLaunch": false,
    "category": "General purpose",
    "gpuNum": 0,
    "hideHardwareSpecs": false,
    "memoryGiB": 32,
    "name": "ml.t3.2xlarge",
    "vcpuNum": 8
   },
   {
    "_defaultOrder": 4,
    "_isFastLaunch": true,
    "category": "General purpose",
    "gpuNum": 0,
    "hideHardwareSpecs": false,
    "memoryGiB": 8,
    "name": "ml.m5.large",
    "vcpuNum": 2
   },
   {
    "_defaultOrder": 5,
    "_isFastLaunch": false,
    "category": "General purpose",
    "gpuNum": 0,
    "hideHardwareSpecs": false,
    "memoryGiB": 16,
    "name": "ml.m5.xlarge",
    "vcpuNum": 4
   },
   {
    "_defaultOrder": 6,
    "_isFastLaunch": false,
    "category": "General purpose",
    "gpuNum": 0,
    "hideHardwareSpecs": false,
    "memoryGiB": 32,
    "name": "ml.m5.2xlarge",
    "vcpuNum": 8
   },
   {
    "_defaultOrder": 7,
    "_isFastLaunch": false,
    "category": "General purpose",
    "gpuNum": 0,
    "hideHardwareSpecs": false,
    "memoryGiB": 64,
    "name": "ml.m5.4xlarge",
    "vcpuNum": 16
   },
   {
    "_defaultOrder": 8,
    "_isFastLaunch": false,
    "category": "General purpose",
    "gpuNum": 0,
    "hideHardwareSpecs": false,
    "memoryGiB": 128,
    "name": "ml.m5.8xlarge",
    "vcpuNum": 32
   },
   {
    "_defaultOrder": 9,
    "_isFastLaunch": false,
    "category": "General purpose",
    "gpuNum": 0,
    "hideHardwareSpecs": false,
    "memoryGiB": 192,
    "name": "ml.m5.12xlarge",
    "vcpuNum": 48
   },
   {
    "_defaultOrder": 10,
    "_isFastLaunch": false,
    "category": "General purpose",
    "gpuNum": 0,
    "hideHardwareSpecs": false,
    "memoryGiB": 256,
    "name": "ml.m5.16xlarge",
    "vcpuNum": 64
   },
   {
    "_defaultOrder": 11,
    "_isFastLaunch": false,
    "category": "General purpose",
    "gpuNum": 0,
    "hideHardwareSpecs": false,
    "memoryGiB": 384,
    "name": "ml.m5.24xlarge",
    "vcpuNum": 96
   },
   {
    "_defaultOrder": 12,
    "_isFastLaunch": false,
    "category": "General purpose",
    "gpuNum": 0,
    "hideHardwareSpecs": false,
    "memoryGiB": 8,
    "name": "ml.m5d.large",
    "vcpuNum": 2
   },
   {
    "_defaultOrder": 13,
    "_isFastLaunch": false,
    "category": "General purpose",
    "gpuNum": 0,
    "hideHardwareSpecs": false,
    "memoryGiB": 16,
    "name": "ml.m5d.xlarge",
    "vcpuNum": 4
   },
   {
    "_defaultOrder": 14,
    "_isFastLaunch": false,
    "category": "General purpose",
    "gpuNum": 0,
    "hideHardwareSpecs": false,
    "memoryGiB": 32,
    "name": "ml.m5d.2xlarge",
    "vcpuNum": 8
   },
   {
    "_defaultOrder": 15,
    "_isFastLaunch": false,
    "category": "General purpose",
    "gpuNum": 0,
    "hideHardwareSpecs": false,
    "memoryGiB": 64,
    "name": "ml.m5d.4xlarge",
    "vcpuNum": 16
   },
   {
    "_defaultOrder": 16,
    "_isFastLaunch": false,
    "category": "General purpose",
    "gpuNum": 0,
    "hideHardwareSpecs": false,
    "memoryGiB": 128,
    "name": "ml.m5d.8xlarge",
    "vcpuNum": 32
   },
   {
    "_defaultOrder": 17,
    "_isFastLaunch": false,
    "category": "General purpose",
    "gpuNum": 0,
    "hideHardwareSpecs": false,
    "memoryGiB": 192,
    "name": "ml.m5d.12xlarge",
    "vcpuNum": 48
   },
   {
    "_defaultOrder": 18,
    "_isFastLaunch": false,
    "category": "General purpose",
    "gpuNum": 0,
    "hideHardwareSpecs": false,
    "memoryGiB": 256,
    "name": "ml.m5d.16xlarge",
    "vcpuNum": 64
   },
   {
    "_defaultOrder": 19,
    "_isFastLaunch": false,
    "category": "General purpose",
    "gpuNum": 0,
    "hideHardwareSpecs": false,
    "memoryGiB": 384,
    "name": "ml.m5d.24xlarge",
    "vcpuNum": 96
   },
   {
    "_defaultOrder": 20,
    "_isFastLaunch": false,
    "category": "General purpose",
    "gpuNum": 0,
    "hideHardwareSpecs": true,
    "memoryGiB": 0,
    "name": "ml.geospatial.interactive",
    "supportedImageNames": [
     "sagemaker-geospatial-v1-0"
    ],
    "vcpuNum": 0
   },
   {
    "_defaultOrder": 21,
    "_isFastLaunch": true,
    "category": "Compute optimized",
    "gpuNum": 0,
    "hideHardwareSpecs": false,
    "memoryGiB": 4,
    "name": "ml.c5.large",
    "vcpuNum": 2
   },
   {
    "_defaultOrder": 22,
    "_isFastLaunch": false,
    "category": "Compute optimized",
    "gpuNum": 0,
    "hideHardwareSpecs": false,
    "memoryGiB": 8,
    "name": "ml.c5.xlarge",
    "vcpuNum": 4
   },
   {
    "_defaultOrder": 23,
    "_isFastLaunch": false,
    "category": "Compute optimized",
    "gpuNum": 0,
    "hideHardwareSpecs": false,
    "memoryGiB": 16,
    "name": "ml.c5.2xlarge",
    "vcpuNum": 8
   },
   {
    "_defaultOrder": 24,
    "_isFastLaunch": false,
    "category": "Compute optimized",
    "gpuNum": 0,
    "hideHardwareSpecs": false,
    "memoryGiB": 32,
    "name": "ml.c5.4xlarge",
    "vcpuNum": 16
   },
   {
    "_defaultOrder": 25,
    "_isFastLaunch": false,
    "category": "Compute optimized",
    "gpuNum": 0,
    "hideHardwareSpecs": false,
    "memoryGiB": 72,
    "name": "ml.c5.9xlarge",
    "vcpuNum": 36
   },
   {
    "_defaultOrder": 26,
    "_isFastLaunch": false,
    "category": "Compute optimized",
    "gpuNum": 0,
    "hideHardwareSpecs": false,
    "memoryGiB": 96,
    "name": "ml.c5.12xlarge",
    "vcpuNum": 48
   },
   {
    "_defaultOrder": 27,
    "_isFastLaunch": false,
    "category": "Compute optimized",
    "gpuNum": 0,
    "hideHardwareSpecs": false,
    "memoryGiB": 144,
    "name": "ml.c5.18xlarge",
    "vcpuNum": 72
   },
   {
    "_defaultOrder": 28,
    "_isFastLaunch": false,
    "category": "Compute optimized",
    "gpuNum": 0,
    "hideHardwareSpecs": false,
    "memoryGiB": 192,
    "name": "ml.c5.24xlarge",
    "vcpuNum": 96
   },
   {
    "_defaultOrder": 29,
    "_isFastLaunch": true,
    "category": "Accelerated computing",
    "gpuNum": 1,
    "hideHardwareSpecs": false,
    "memoryGiB": 16,
    "name": "ml.g4dn.xlarge",
    "vcpuNum": 4
   },
   {
    "_defaultOrder": 30,
    "_isFastLaunch": false,
    "category": "Accelerated computing",
    "gpuNum": 1,
    "hideHardwareSpecs": false,
    "memoryGiB": 32,
    "name": "ml.g4dn.2xlarge",
    "vcpuNum": 8
   },
   {
    "_defaultOrder": 31,
    "_isFastLaunch": false,
    "category": "Accelerated computing",
    "gpuNum": 1,
    "hideHardwareSpecs": false,
    "memoryGiB": 64,
    "name": "ml.g4dn.4xlarge",
    "vcpuNum": 16
   },
   {
    "_defaultOrder": 32,
    "_isFastLaunch": false,
    "category": "Accelerated computing",
    "gpuNum": 1,
    "hideHardwareSpecs": false,
    "memoryGiB": 128,
    "name": "ml.g4dn.8xlarge",
    "vcpuNum": 32
   },
   {
    "_defaultOrder": 33,
    "_isFastLaunch": false,
    "category": "Accelerated computing",
    "gpuNum": 4,
    "hideHardwareSpecs": false,
    "memoryGiB": 192,
    "name": "ml.g4dn.12xlarge",
    "vcpuNum": 48
   },
   {
    "_defaultOrder": 34,
    "_isFastLaunch": false,
    "category": "Accelerated computing",
    "gpuNum": 1,
    "hideHardwareSpecs": false,
    "memoryGiB": 256,
    "name": "ml.g4dn.16xlarge",
    "vcpuNum": 64
   },
   {
    "_defaultOrder": 35,
    "_isFastLaunch": false,
    "category": "Accelerated computing",
    "gpuNum": 1,
    "hideHardwareSpecs": false,
    "memoryGiB": 61,
    "name": "ml.p3.2xlarge",
    "vcpuNum": 8
   },
   {
    "_defaultOrder": 36,
    "_isFastLaunch": false,
    "category": "Accelerated computing",
    "gpuNum": 4,
    "hideHardwareSpecs": false,
    "memoryGiB": 244,
    "name": "ml.p3.8xlarge",
    "vcpuNum": 32
   },
   {
    "_defaultOrder": 37,
    "_isFastLaunch": false,
    "category": "Accelerated computing",
    "gpuNum": 8,
    "hideHardwareSpecs": false,
    "memoryGiB": 488,
    "name": "ml.p3.16xlarge",
    "vcpuNum": 64
   },
   {
    "_defaultOrder": 38,
    "_isFastLaunch": false,
    "category": "Accelerated computing",
    "gpuNum": 8,
    "hideHardwareSpecs": false,
    "memoryGiB": 768,
    "name": "ml.p3dn.24xlarge",
    "vcpuNum": 96
   },
   {
    "_defaultOrder": 39,
    "_isFastLaunch": false,
    "category": "Memory Optimized",
    "gpuNum": 0,
    "hideHardwareSpecs": false,
    "memoryGiB": 16,
    "name": "ml.r5.large",
    "vcpuNum": 2
   },
   {
    "_defaultOrder": 40,
    "_isFastLaunch": false,
    "category": "Memory Optimized",
    "gpuNum": 0,
    "hideHardwareSpecs": false,
    "memoryGiB": 32,
    "name": "ml.r5.xlarge",
    "vcpuNum": 4
   },
   {
    "_defaultOrder": 41,
    "_isFastLaunch": false,
    "category": "Memory Optimized",
    "gpuNum": 0,
    "hideHardwareSpecs": false,
    "memoryGiB": 64,
    "name": "ml.r5.2xlarge",
    "vcpuNum": 8
   },
   {
    "_defaultOrder": 42,
    "_isFastLaunch": false,
    "category": "Memory Optimized",
    "gpuNum": 0,
    "hideHardwareSpecs": false,
    "memoryGiB": 128,
    "name": "ml.r5.4xlarge",
    "vcpuNum": 16
   },
   {
    "_defaultOrder": 43,
    "_isFastLaunch": false,
    "category": "Memory Optimized",
    "gpuNum": 0,
    "hideHardwareSpecs": false,
    "memoryGiB": 256,
    "name": "ml.r5.8xlarge",
    "vcpuNum": 32
   },
   {
    "_defaultOrder": 44,
    "_isFastLaunch": false,
    "category": "Memory Optimized",
    "gpuNum": 0,
    "hideHardwareSpecs": false,
    "memoryGiB": 384,
    "name": "ml.r5.12xlarge",
    "vcpuNum": 48
   },
   {
    "_defaultOrder": 45,
    "_isFastLaunch": false,
    "category": "Memory Optimized",
    "gpuNum": 0,
    "hideHardwareSpecs": false,
    "memoryGiB": 512,
    "name": "ml.r5.16xlarge",
    "vcpuNum": 64
   },
   {
    "_defaultOrder": 46,
    "_isFastLaunch": false,
    "category": "Memory Optimized",
    "gpuNum": 0,
    "hideHardwareSpecs": false,
    "memoryGiB": 768,
    "name": "ml.r5.24xlarge",
    "vcpuNum": 96
   },
   {
    "_defaultOrder": 47,
    "_isFastLaunch": false,
    "category": "Accelerated computing",
    "gpuNum": 1,
    "hideHardwareSpecs": false,
    "memoryGiB": 16,
    "name": "ml.g5.xlarge",
    "vcpuNum": 4
   },
   {
    "_defaultOrder": 48,
    "_isFastLaunch": false,
    "category": "Accelerated computing",
    "gpuNum": 1,
    "hideHardwareSpecs": false,
    "memoryGiB": 32,
    "name": "ml.g5.2xlarge",
    "vcpuNum": 8
   },
   {
    "_defaultOrder": 49,
    "_isFastLaunch": false,
    "category": "Accelerated computing",
    "gpuNum": 1,
    "hideHardwareSpecs": false,
    "memoryGiB": 64,
    "name": "ml.g5.4xlarge",
    "vcpuNum": 16
   },
   {
    "_defaultOrder": 50,
    "_isFastLaunch": false,
    "category": "Accelerated computing",
    "gpuNum": 1,
    "hideHardwareSpecs": false,
    "memoryGiB": 128,
    "name": "ml.g5.8xlarge",
    "vcpuNum": 32
   },
   {
    "_defaultOrder": 51,
    "_isFastLaunch": false,
    "category": "Accelerated computing",
    "gpuNum": 1,
    "hideHardwareSpecs": false,
    "memoryGiB": 256,
    "name": "ml.g5.16xlarge",
    "vcpuNum": 64
   },
   {
    "_defaultOrder": 52,
    "_isFastLaunch": false,
    "category": "Accelerated computing",
    "gpuNum": 4,
    "hideHardwareSpecs": false,
    "memoryGiB": 192,
    "name": "ml.g5.12xlarge",
    "vcpuNum": 48
   },
   {
    "_defaultOrder": 53,
    "_isFastLaunch": false,
    "category": "Accelerated computing",
    "gpuNum": 4,
    "hideHardwareSpecs": false,
    "memoryGiB": 384,
    "name": "ml.g5.24xlarge",
    "vcpuNum": 96
   },
   {
    "_defaultOrder": 54,
    "_isFastLaunch": false,
    "category": "Accelerated computing",
    "gpuNum": 8,
    "hideHardwareSpecs": false,
    "memoryGiB": 768,
    "name": "ml.g5.48xlarge",
    "vcpuNum": 192
   },
   {
    "_defaultOrder": 55,
    "_isFastLaunch": false,
    "category": "Accelerated computing",
    "gpuNum": 8,
    "hideHardwareSpecs": false,
    "memoryGiB": 1152,
    "name": "ml.p4d.24xlarge",
    "vcpuNum": 96
   },
   {
    "_defaultOrder": 56,
    "_isFastLaunch": false,
    "category": "Accelerated computing",
    "gpuNum": 8,
    "hideHardwareSpecs": false,
    "memoryGiB": 1152,
    "name": "ml.p4de.24xlarge",
    "vcpuNum": 96
   }
  ],
  "instance_type": "ml.m5.8xlarge",
  "kernelspec": {
   "display_name": "Python 3 (TensorFlow 2.6 Python 3.8 GPU Optimized)",
   "language": "python",
   "name": "python3__SAGEMAKER_INTERNAL__arn:aws:sagemaker:us-east-2:429704687514:image/tensorflow-2.6-gpu-py38-cu112-ubuntu20.04-v1"
  },
  "language_info": {
   "codemirror_mode": {
    "name": "ipython",
    "version": 3
   },
   "file_extension": ".py",
   "mimetype": "text/x-python",
   "name": "python",
   "nbconvert_exporter": "python",
   "pygments_lexer": "ipython3",
   "version": "3.8.2"
  }
 },
 "nbformat": 4,
 "nbformat_minor": 5
}
